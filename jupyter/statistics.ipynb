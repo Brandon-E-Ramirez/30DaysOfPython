{
 "cells": [
  {
   "cell_type": "code",
   "execution_count": 10,
   "metadata": {},
   "outputs": [],
   "source": [
    "def space():\n",
    "    print('\\n')\n",
    "    \n",
    "#Representing missing values\n",
    "import numpy as np    \n",
    "two_dimension_array = np.array([[1,2,3],[4,5,6], [7,8,9]])"
   ]
  },
  {
   "cell_type": "code",
   "execution_count": 11,
   "metadata": {},
   "outputs": [
    {
     "name": "stdout",
     "output_type": "stream",
     "text": [
      "[[1 2 3]\n",
      " [4 5 6]\n",
      " [7 8 9]]\n",
      "\n",
      "\n",
      "[[ 1  2  3]\n",
      " [ 4 55 44]\n",
      " [ 7  8  9]]\n"
     ]
    }
   ],
   "source": [
    "#\n",
    "print(two_dimension_array)\n",
    "two_dimension_array[1,1] = 55\n",
    "two_dimension_array[1,2] =44\n",
    "print('\\n')\n",
    "print(two_dimension_array)"
   ]
  },
  {
   "cell_type": "code",
   "execution_count": 12,
   "metadata": {},
   "outputs": [
    {
     "name": "stdout",
     "output_type": "stream",
     "text": [
      "[[0 0 0]\n",
      " [0 0 0]\n",
      " [0 0 0]]\n",
      "\n",
      "\n",
      "[[1 1 1]\n",
      " [1 1 1]\n",
      " [1 1 1]]\n"
     ]
    }
   ],
   "source": [
    "    # Numpy Zeroes, making an array with default values\n",
    "    # numpy.zeros(shape, dtype=float, order='C')\n",
    "numpy_zeroes = np.zeros((3,3),dtype=int,order='C')\n",
    "print(numpy_zeroes)\n",
    "space()\n",
    "# Numpy Zeroes\n",
    "numpy_ones = np.ones((3,3),dtype=int,order='C')\n",
    "print(numpy_ones)"
   ]
  },
  {
   "cell_type": "code",
   "execution_count": 13,
   "metadata": {},
   "outputs": [
    {
     "name": "stdout",
     "output_type": "stream",
     "text": [
      "[[10 10 10]\n",
      " [10 10 10]\n",
      " [10 10 10]]\n"
     ]
    }
   ],
   "source": [
    "n_multiplier = 10 #any number\n",
    "n = numpy_ones * n_multiplier\n",
    "print(n)"
   ]
  },
  {
   "cell_type": "code",
   "execution_count": 14,
   "metadata": {},
   "outputs": [
    {
     "name": "stdout",
     "output_type": "stream",
     "text": [
      "[[1 2 3]\n",
      " [4 5 6]]\n",
      "[[1 2]\n",
      " [3 4]\n",
      " [5 6]]\n"
     ]
    }
   ],
   "source": [
    "# Reshape, change the grouping of multidimensional arrays\n",
    "# numpy.reshape(), numpy.flatten()\n",
    "first_shape  = np.array([(1,2,3), (4,5,6)])\n",
    "print(first_shape)\n",
    "reshaped = first_shape.reshape(3,2)\n",
    "print(reshaped)\n"
   ]
  },
  {
   "cell_type": "code",
   "execution_count": 16,
   "metadata": {},
   "outputs": [
    {
     "name": "stdout",
     "output_type": "stream",
     "text": [
      "[1 2 3 4 5 6]\n"
     ]
    }
   ],
   "source": [
    "flattened = reshaped.flatten()\n",
    "print(flattened)"
   ]
  },
  {
   "cell_type": "code",
   "execution_count": 21,
   "metadata": {},
   "outputs": [
    {
     "name": "stdout",
     "output_type": "stream",
     "text": [
      "[5 7 9]\n",
      "Horizontal Append: [1 2 3 4 5 6]\n",
      "\n",
      "\n",
      "Vertical Append: [[1 2 3]\n",
      " [4 5 6]]\n"
     ]
    }
   ],
   "source": [
    "## Horitzontal Stack, instead of adding elements of 2 arrays to each corresponding index, append the second \n",
    "## array to the first to make new single list\n",
    "np_list_one = np.array([1,2,3])\n",
    "np_list_two = np.array([4,5,6])\n",
    "\n",
    "\n",
    "print(np_list_one + np_list_two)\n",
    "print('Horizontal Append:', np.hstack((np_list_one, np_list_two)))\n",
    "space()\n",
    "## Vertical Stack, append arrays to new multi-dimensional array\n",
    "print('Vertical Append:', np.vstack((np_list_one, np_list_two)))\n",
    "\n"
   ]
  },
  {
   "cell_type": "code",
   "execution_count": 27,
   "metadata": {},
   "outputs": [
    {
     "name": "stdout",
     "output_type": "stream",
     "text": [
      "0.9933029231033579\n",
      "\n",
      "\n",
      "[0.82835193 0.62261187 0.96936946 0.64279422 0.7394659 ]\n",
      "\n",
      "\n",
      "3\n",
      "[6 8 8 5 6 9 8 7 8 9]\n"
     ]
    }
   ],
   "source": [
    "#Generating random numbers\n",
    "    # Generate a random float  number\n",
    "random_float = np.random.random()\n",
    "print(random_float)\n",
    "space()\n",
    "    # Generate a random float  number\n",
    "random_floats = np.random.random(5)\n",
    "print(random_floats)\n",
    "space()\n",
    "    # Generating a random integers between 0 and 10\n",
    "random_int = np.random.randint(0, 11)\n",
    "print(random_int)\n",
    "    # Generating a random integers between 2 and 11, and creating a one row array\n",
    "random_int = np.random.randint(2,10, size=10)\n",
    "print(random_int)"
   ]
  },
  {
   "cell_type": "code",
   "execution_count": 28,
   "metadata": {},
   "outputs": [
    {
     "data": {
      "text/plain": [
       "array([ 67.33350584,  71.10756862,  66.95258763,  76.06421614,\n",
       "        70.73887738,  75.62280154,  47.73150944,  95.1913085 ,\n",
       "        74.25181194,  48.50714889,  70.58312909,  74.50405016,\n",
       "        62.76088706,  83.31417617,  77.8573052 ,  92.85473008,\n",
       "        78.6945403 ,  92.11119635,  75.23886881,  73.1753042 ,\n",
       "        82.76001224,  65.13124406,  61.03861265,  95.37282434,\n",
       "        68.9577453 ,  90.43091092,  66.71966678,  71.84296669,\n",
       "        75.51017435,  60.96101169,  53.90194934,  88.74201054,\n",
       "        85.82982543,  81.90457653,  82.64439827,  54.07393542,\n",
       "        98.30449023, 102.31727178,  62.30841559, 104.20702263,\n",
       "        83.74624356,  99.10686525,  90.93659542,  94.03541518,\n",
       "        51.84295209,  79.1799344 ,  94.7116433 ,  93.86847717,\n",
       "        85.7385167 ,  86.12996706,  92.11035956,  92.62178216,\n",
       "        77.4916591 ,  74.56111876,  86.70765018,  96.23898859,\n",
       "        90.23475807,  92.54589587,  83.23271052,  81.99953114,\n",
       "        67.48120466,  72.28611636,  75.71826882,  91.87025452,\n",
       "        70.67917816,  55.95587439, 114.49989919,  62.59443445,\n",
       "        80.27910183,  70.05016605,  79.20122494,  72.47402837,\n",
       "       101.51894769,  83.32775338,  65.88351969,  91.68324969,\n",
       "       114.45300248,  69.62688543,  63.22263952,  90.9120254 ])"
      ]
     },
     "execution_count": 28,
     "metadata": {},
     "output_type": "execute_result"
    }
   ],
   "source": [
    "#Generating random numbers\n",
    "    # np.random.normal(mu, sigma, size)\n",
    "normal_array = np.random.normal(79, 15, 80)\n",
    "normal_array\n"
   ]
  },
  {
   "cell_type": "code",
   "execution_count": 30,
   "metadata": {},
   "outputs": [
    {
     "name": "stdout",
     "output_type": "stream",
     "text": [
      "[[1. 1. 1. 1.]\n",
      " [1. 1. 1. 1.]\n",
      " [1. 1. 1. 1.]\n",
      " [1. 1. 1. 1.]]\n"
     ]
    }
   ],
   "source": [
    "\n",
    "four_by_four_matrix = np.matrix(np.ones((4,4), dtype=float))\n",
    "print(four_by_four_matrix)"
   ]
  },
  {
   "cell_type": "code",
   "execution_count": 31,
   "metadata": {},
   "outputs": [
    {
     "data": {
      "text/plain": [
       "matrix([[1., 1., 1., 1.],\n",
       "        [1., 1., 1., 1.],\n",
       "        [2., 2., 2., 2.],\n",
       "        [1., 1., 1., 1.]])"
      ]
     },
     "execution_count": 31,
     "metadata": {},
     "output_type": "execute_result"
    }
   ],
   "source": [
    "np.asarray(four_by_four_matrix)[2] = 2\n",
    "four_by_four_matrix"
   ]
  },
  {
   "cell_type": "code",
   "execution_count": null,
   "metadata": {},
   "outputs": [],
   "source": []
  }
 ],
 "metadata": {
  "kernelspec": {
   "display_name": "base",
   "language": "python",
   "name": "python3"
  },
  "language_info": {
   "codemirror_mode": {
    "name": "ipython",
    "version": 3
   },
   "file_extension": ".py",
   "mimetype": "text/x-python",
   "name": "python",
   "nbconvert_exporter": "python",
   "pygments_lexer": "ipython3",
   "version": "3.9.13"
  }
 },
 "nbformat": 4,
 "nbformat_minor": 2
}
