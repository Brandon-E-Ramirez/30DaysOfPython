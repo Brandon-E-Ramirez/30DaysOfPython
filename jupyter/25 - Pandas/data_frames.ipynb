{
 "cells": [
  {
   "cell_type": "code",
   "execution_count": 2,
   "metadata": {},
   "outputs": [],
   "source": [
    "import pandas as pd"
   ]
  },
  {
   "cell_type": "code",
   "execution_count": 3,
   "metadata": {},
   "outputs": [
    {
     "name": "stdout",
     "output_type": "stream",
     "text": [
      "      Names  Country       City\n",
      "0  Asabeneh  Finland    Helsink\n",
      "1     David       UK     London\n",
      "2      John   Sweden  Stockholm\n"
     ]
    }
   ],
   "source": [
    "#creating a data frame from a python list of lists\n",
    "data = [\n",
    "    ['Asabeneh', 'Finland', 'Helsink'], \n",
    "    ['David', 'UK', 'London'],\n",
    "    ['John', 'Sweden', 'Stockholm']\n",
    "]\n",
    "df = pd.DataFrame(data, columns=['Names','Country','City'])\n",
    "print(df)"
   ]
  },
  {
   "cell_type": "code",
   "execution_count": 4,
   "metadata": {},
   "outputs": [
    {
     "name": "stdout",
     "output_type": "stream",
     "text": [
      "       Name  Country       City\n",
      "0  Asabeneh  Finland    Helsiki\n",
      "1     David       UK     London\n",
      "2      John   Sweden  Stockholm\n"
     ]
    }
   ],
   "source": [
    "#using a dictionary\n",
    "data = {'Name': ['Asabeneh', 'David', 'John'], 'Country':[\n",
    "    'Finland', 'UK', 'Sweden'], 'City': ['Helsiki', 'London', 'Stockholm']}\n",
    "df = pd.DataFrame(data)\n",
    "print(df)"
   ]
  },
  {
   "cell_type": "code",
   "execution_count": 5,
   "metadata": {},
   "outputs": [
    {
     "name": "stdout",
     "output_type": "stream",
     "text": [
      "       Name  Country       City\n",
      "0  Asabeneh  Finland   Helsinki\n",
      "1     David       UK     London\n",
      "2      John   Sweden  Stockholm\n"
     ]
    }
   ],
   "source": [
    "#from a list of dictionaries\n",
    "data = [\n",
    "    {'Name': 'Asabeneh', 'Country': 'Finland', 'City': 'Helsinki'},\n",
    "    {'Name': 'David', 'Country': 'UK', 'City': 'London'},\n",
    "    {'Name': 'John', 'Country': 'Sweden', 'City': 'Stockholm'}]\n",
    "df = pd.DataFrame(data)\n",
    "print(df)"
   ]
  },
  {
   "cell_type": "code",
   "execution_count": 10,
   "metadata": {},
   "outputs": [
    {
     "name": "stdout",
     "output_type": "stream",
     "text": [
      "   Entry # Character             Meanings          On                 Kun  \\\n",
      "0        1         日  SUN\\n\\nDAY\\n\\nJAPAN    ニチ\\n\\nジツ       ひ\\n\\n-び\\n\\n-か   \n",
      "1        2         一                  ONE    イチ\\n\\nイツ        ひと-\\n\\nひと(つ)   \n",
      "2        3         二                  TWO           ニ         ふた\\n\\nふた(つ)   \n",
      "3        4         三                THREE          サン  み\\n\\nみ(つ)\\n\\nみっ(つ)   \n",
      "4        5         十                  TEN  ジュウ\\n\\nジッ-             とお\\n\\nと   \n",
      "\n",
      "                                               Vocab Additional Senses  \\\n",
      "0  日々 ・ ひび ・ daily; days\\n\\n日にち ・ ひにち ・ date; num...               NaN   \n",
      "1  一日 ・ いちにち ・ one day\\n\\n一日 ・ ついたち ・ 1st of the ...               NaN   \n",
      "2  二日 ・ ふつか ・ two days; 2nd of the month \\n\\n二メート...               NaN   \n",
      "3  三つだけ ・ みっつだけ ・ just three\\n\\n三日 ・ みっか ・ three ...               NaN   \n",
      "4  二十 ・ にじゅう ・ twenty\\n\\n二十 ・ はたち ・ twenty years ...               NaN   \n",
      "\n",
      "   Personal Mnemonics or Notes  \n",
      "0                          NaN  \n",
      "1                          NaN  \n",
      "2                          NaN  \n",
      "3                          NaN  \n",
      "4                          NaN  \n",
      "      Entry # Character     Meanings       On  Kun  \\\n",
      "2295     2296         巳  THE SERPENT        シ    み   \n",
      "2296     2297         蛇        SNAKE  ジャ\\n\\nダ   へび   \n",
      "2297     2298         繭       COCOON       ケン   まゆ   \n",
      "2298     2299         蝶    BUTTERFLY      チョウ  NaN   \n",
      "2299     2300         虹      RAINBOW      コウ*   にじ   \n",
      "\n",
      "                                                  Vocab Additional Senses  \\\n",
      "2295  巳年 ・ みどし ・ Year of the Serpent\\n\\n初巳 ・ はつみ ・ f...         sign of …   \n",
      "2296  蛇行する ・ だこうする ・ meander, zigzag\\n\\n蛇口 ・ じゃぐち ・ ...               NaN   \n",
      "2297  繭糸 ・ けんし ・ silk thread\\n\\n繭を掛ける ・ まゆをかける ・ spi...               NaN   \n",
      "2298  蝶 ・ ちょう ・ butterfly\\n\\n蝶蝶 ・ ちょうちょう ・ butterfly...               NaN   \n",
      "2299  虹色 ・ にじいろ ・ rainbow colors\\n\\n虹 ・ にじ ・ rainbow...               NaN   \n",
      "\n",
      "      Personal Mnemonics or Notes  \n",
      "2295                          NaN  \n",
      "2296                          NaN  \n",
      "2297                          NaN  \n",
      "2298                          NaN  \n",
      "2299                          NaN  \n"
     ]
    }
   ],
   "source": [
    "df = pd.read_csv('kklc.csv')\n",
    "print(df.head())#print only the first 5 rows\n",
    "print(df.tail())#print only the last 5 rows"
   ]
  },
  {
   "cell_type": "code",
   "execution_count": 11,
   "metadata": {},
   "outputs": [
    {
     "name": "stdout",
     "output_type": "stream",
     "text": [
      "(2300, 8)\n"
     ]
    }
   ],
   "source": [
    "print(df.shape)"
   ]
  },
  {
   "cell_type": "code",
   "execution_count": 12,
   "metadata": {},
   "outputs": [
    {
     "name": "stdout",
     "output_type": "stream",
     "text": [
      "Index(['Entry #', 'Character', 'Meanings', 'On', 'Kun', 'Vocab',\n",
      "       'Additional Senses', 'Personal Mnemonics or Notes'],\n",
      "      dtype='object')\n"
     ]
    }
   ],
   "source": [
    "print(df.columns)"
   ]
  },
  {
   "cell_type": "code",
   "execution_count": 14,
   "metadata": {},
   "outputs": [
    {
     "name": "stdout",
     "output_type": "stream",
     "text": [
      "0          1\n",
      "1          2\n",
      "2          3\n",
      "3          4\n",
      "4          5\n",
      "        ... \n",
      "2295    2296\n",
      "2296    2297\n",
      "2297    2298\n",
      "2298    2299\n",
      "2299    2300\n",
      "Name: Entry #, Length: 2300, dtype: int64\n"
     ]
    }
   ],
   "source": [
    "#getting specific column using column key/name\n",
    "entry_nums = df['Entry #'] # this is now a series\n",
    "print(entry_nums)"
   ]
  },
  {
   "cell_type": "code",
   "execution_count": 15,
   "metadata": {},
   "outputs": [
    {
     "name": "stdout",
     "output_type": "stream",
     "text": [
      "count    2300.000000\n",
      "mean     1150.500000\n",
      "std       664.097131\n",
      "min         1.000000\n",
      "25%       575.750000\n",
      "50%      1150.500000\n",
      "75%      1725.250000\n",
      "max      2300.000000\n",
      "Name: Entry #, dtype: float64\n"
     ]
    }
   ],
   "source": [
    "print(entry_nums.describe()) # give statisical information about data\n",
    "#obviously this doesnt give us useful information, just go with it for now, lol"
   ]
  },
  {
   "cell_type": "code",
   "execution_count": 16,
   "metadata": {},
   "outputs": [
    {
     "name": "stdout",
     "output_type": "stream",
     "text": [
      "<bound method DataFrame.info of       Entry # Character             Meanings          On                 Kun  \\\n",
      "0           1         日  SUN\\n\\nDAY\\n\\nJAPAN    ニチ\\n\\nジツ       ひ\\n\\n-び\\n\\n-か   \n",
      "1           2         一                  ONE    イチ\\n\\nイツ        ひと-\\n\\nひと(つ)   \n",
      "2           3         二                  TWO           ニ         ふた\\n\\nふた(つ)   \n",
      "3           4         三                THREE          サン  み\\n\\nみ(つ)\\n\\nみっ(つ)   \n",
      "4           5         十                  TEN  ジュウ\\n\\nジッ-             とお\\n\\nと   \n",
      "...       ...       ...                  ...         ...                 ...   \n",
      "2295     2296         巳          THE SERPENT           シ                   み   \n",
      "2296     2297         蛇                SNAKE     ジャ\\n\\nダ                  へび   \n",
      "2297     2298         繭               COCOON          ケン                  まゆ   \n",
      "2298     2299         蝶            BUTTERFLY         チョウ                 NaN   \n",
      "2299     2300         虹              RAINBOW         コウ*                  にじ   \n",
      "\n",
      "                                                  Vocab Additional Senses  \\\n",
      "0     日々 ・ ひび ・ daily; days\\n\\n日にち ・ ひにち ・ date; num...               NaN   \n",
      "1     一日 ・ いちにち ・ one day\\n\\n一日 ・ ついたち ・ 1st of the ...               NaN   \n",
      "2     二日 ・ ふつか ・ two days; 2nd of the month \\n\\n二メート...               NaN   \n",
      "3     三つだけ ・ みっつだけ ・ just three\\n\\n三日 ・ みっか ・ three ...               NaN   \n",
      "4     二十 ・ にじゅう ・ twenty\\n\\n二十 ・ はたち ・ twenty years ...               NaN   \n",
      "...                                                 ...               ...   \n",
      "2295  巳年 ・ みどし ・ Year of the Serpent\\n\\n初巳 ・ はつみ ・ f...         sign of …   \n",
      "2296  蛇行する ・ だこうする ・ meander, zigzag\\n\\n蛇口 ・ じゃぐち ・ ...               NaN   \n",
      "2297  繭糸 ・ けんし ・ silk thread\\n\\n繭を掛ける ・ まゆをかける ・ spi...               NaN   \n",
      "2298  蝶 ・ ちょう ・ butterfly\\n\\n蝶蝶 ・ ちょうちょう ・ butterfly...               NaN   \n",
      "2299  虹色 ・ にじいろ ・ rainbow colors\\n\\n虹 ・ にじ ・ rainbow...               NaN   \n",
      "\n",
      "      Personal Mnemonics or Notes  \n",
      "0                             NaN  \n",
      "1                             NaN  \n",
      "2                             NaN  \n",
      "3                             NaN  \n",
      "4                             NaN  \n",
      "...                           ...  \n",
      "2295                          NaN  \n",
      "2296                          NaN  \n",
      "2297                          NaN  \n",
      "2298                          NaN  \n",
      "2299                          NaN  \n",
      "\n",
      "[2300 rows x 8 columns]>\n"
     ]
    }
   ],
   "source": [
    "print(df.info) #also gives information about dataset"
   ]
  },
  {
   "cell_type": "code",
   "execution_count": null,
   "metadata": {},
   "outputs": [],
   "source": []
  }
 ],
 "metadata": {
  "kernelspec": {
   "display_name": "base",
   "language": "python",
   "name": "python3"
  },
  "language_info": {
   "codemirror_mode": {
    "name": "ipython",
    "version": 3
   },
   "file_extension": ".py",
   "mimetype": "text/x-python",
   "name": "python",
   "nbconvert_exporter": "python",
   "pygments_lexer": "ipython3",
   "version": "3.9.13"
  }
 },
 "nbformat": 4,
 "nbformat_minor": 2
}
