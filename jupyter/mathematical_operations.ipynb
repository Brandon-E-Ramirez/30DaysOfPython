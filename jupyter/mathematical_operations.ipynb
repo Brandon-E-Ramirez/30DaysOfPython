{
 "cells": [
  {
   "cell_type": "code",
   "execution_count": 1,
   "metadata": {},
   "outputs": [
    {
     "name": "stdout",
     "output_type": "stream",
     "text": [
      "original array:  [1 2 3 4 5]\n",
      "original array plus 10: [11 12 13 14 15]\n",
      "original array minus 10: [-9 -8 -7 -6 -5]\n",
      "original array divided by 10: [0.1 0.2 0.3 0.4 0.5]\n",
      "original array times 10: [10 20 30 40 50]\n"
     ]
    }
   ],
   "source": [
    "import numpy as np\n",
    "# Mathematical Operation\n",
    "# Addition\n",
    "numpy_array_from_list = np.array([1, 2, 3, 4, 5])\n",
    "numpy_array_from_list_times_hundred= numpy_array_from_list * 100\n",
    "print('original array: ', numpy_array_from_list)\n",
    "ten_plus_original = numpy_array_from_list  + 10\n",
    "ten_minus_original = numpy_array_from_list - 10\n",
    "ten_divided_original = numpy_array_from_list / 10\n",
    "ten_multiplied_original = numpy_array_from_list * 10\n",
    "\n",
    "\n",
    "\n",
    "\n",
    "print('original array plus 10: {}'.format(ten_plus_original))\n",
    "print('original array minus 10: {}'.format(ten_minus_original))\n",
    "print('original array divided by 10: {}'.format(ten_divided_original))\n",
    "print('original array times 10: {}'.format(ten_multiplied_original))\n"
   ]
  },
  {
   "cell_type": "code",
   "execution_count": 4,
   "metadata": {},
   "outputs": [
    {
     "name": "stdout",
     "output_type": "stream",
     "text": [
      "int64\n",
      "float64\n",
      "The numpy array: [-3 -2 -1  0  1  2  3] \n",
      "is the same as the numpy bool array: [ True  True  True False  True  True  True]\n",
      "The numpy boolean array type is: bool\n"
     ]
    }
   ],
   "source": [
    "#Int,  Float numbers\n",
    "numpy_int_arr = np.array([1,2,3,4])\n",
    "numpy_float_arr = np.array([1.1, 2.0,3.2])\n",
    "numpy_arr = np.array([-3, -2, -1, 0, 1,2,3])\n",
    "'''\n",
    "numpy booleans are like this: (zero) = false, (non-zero) = true \n",
    "'''\n",
    "numpy_bool_arr = np.array(numpy_arr, dtype='bool')\n",
    "'''\n",
    "you can change the data type with dtype = int,bool,\n",
    "str -> numpy_float_list.astype('int').astype('str')\n",
    "'''\n",
    "\n",
    "print(numpy_int_arr.dtype)\n",
    "print(numpy_float_arr.dtype)\n",
    "print('The numpy array: {} \\nis the same as the numpy bool array: {}'.format(numpy_arr, numpy_bool_arr))\n",
    "print('The numpy boolean array type is: {}'.format(numpy_bool_arr.dtype))\n"
   ]
  },
  {
   "cell_type": "code",
   "execution_count": null,
   "metadata": {},
   "outputs": [],
   "source": []
  }
 ],
 "metadata": {
  "kernelspec": {
   "display_name": "pc_mint_env",
   "language": "python",
   "name": "python3"
  },
  "language_info": {
   "codemirror_mode": {
    "name": "ipython",
    "version": 3
   },
   "file_extension": ".py",
   "mimetype": "text/x-python",
   "name": "python",
   "nbconvert_exporter": "python",
   "pygments_lexer": "ipython3",
   "version": "3.12.4"
  }
 },
 "nbformat": 4,
 "nbformat_minor": 2
}
