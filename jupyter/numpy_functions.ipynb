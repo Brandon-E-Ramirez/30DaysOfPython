{
 "cells": [
  {
   "cell_type": "code",
   "execution_count": 1,
   "metadata": {},
   "outputs": [
    {
     "data": {
      "text/plain": [
       "'\\nNumpy Functions\\n    Min np.min()\\n    Max np.max()\\n    Mean np.mean()\\n    Median np.median()\\n    Varience\\n    Percentile\\n    Standard deviation np.std()\\n'"
      ]
     },
     "execution_count": 1,
     "metadata": {},
     "output_type": "execute_result"
    }
   ],
   "source": [
    "import numpy as np\n",
    "'''\n",
    "NumPy Statistical Functions with Example\n",
    "NumPy has quite useful statistical functions for finding minimum, maximum, mean, median, \n",
    "percentile,standard deviation and variance, etc from the given elements in the array. \n",
    "'''\n",
    "\n",
    "'''\n",
    "Numpy Functions\n",
    "    Min np.min()\n",
    "    Max np.max()\n",
    "    Mean np.mean()\n",
    "    Median np.median()\n",
    "    Varience\n",
    "    Percentile\n",
    "    Standard deviation np.std()\n",
    "'''\n",
    "\n"
   ]
  },
  {
   "cell_type": "code",
   "execution_count": 9,
   "metadata": {},
   "outputs": [
    {
     "name": "stdout",
     "output_type": "stream",
     "text": [
      "[5.49686336 4.5541725  4.45697386 4.86822466 5.25128118 5.17762269\n",
      " 5.15870441 4.86271343 3.87179905 4.67934665 4.98096045 5.19922645\n",
      " 4.68215348 5.1577695  5.47505389 5.29082984 4.38670762 4.68736568\n",
      " 6.03217257 4.33719012 4.45407438 5.01656773 4.5529893  4.34922708\n",
      " 4.57491361 5.18900229 5.31575707 5.50365739 5.88701018 4.44222503\n",
      " 5.21522171 4.83917907 5.78443591 4.93628206 4.90526712 4.7995782\n",
      " 4.74846884 5.14933296 5.29054551 4.40934753 4.56879047 4.90990317\n",
      " 4.18865051 5.12510205 4.85268105 5.4650243  5.52581835 4.52746713\n",
      " 4.96717672 5.43490856 4.92351543 6.47687936 5.64125727 5.0383608\n",
      " 4.97146122 3.77578967 5.6812174  4.75967858 4.75048332 5.24478218\n",
      " 4.35746073 5.98494287 4.39419354 4.25114563 5.01414523 5.53519808\n",
      " 5.4441571  5.11578835 4.59937456 4.73099446 4.39729464 3.72620417\n",
      " 4.72964083 4.68199073 4.78441249 4.96022307 5.38251274 5.27383338\n",
      " 5.96232203 5.08790712 4.3952705  4.63973581 4.82325554 4.71600277\n",
      " 5.72108598 5.17021008 5.55305949 5.14652317 5.43279759 5.03802979\n",
      " 4.86722058 5.55494523 4.88511555 5.76694726 4.46823478 5.24254915\n",
      " 5.57898983 4.49066156 4.46814363 5.15560432]\n",
      "\n",
      "\n",
      "min:  1\n",
      "max:  9\n",
      "mean:  5.0\n",
      "sd:  2.581988897471611\n"
     ]
    }
   ],
   "source": [
    "np_normal_dis = np.random.normal(5, 0.5, 100)\n",
    "print(np_normal_dis)\n",
    "print('\\n')\n",
    "two_dimension_array = np.array([[1,2,3],[4,5,6], [7,8,9]])\n",
    "## min, max, mean, median, sd\n",
    "print('min: ', two_dimension_array.min())\n",
    "print('max: ', two_dimension_array.max())\n",
    "print('mean: ',two_dimension_array.mean())\n",
    "#print('median: ', two_dimension_array.median())\n",
    "print('sd: ', two_dimension_array.std())"
   ]
  },
  {
   "cell_type": "code",
   "execution_count": 10,
   "metadata": {},
   "outputs": [
    {
     "name": "stdout",
     "output_type": "stream",
     "text": [
      "Tile:    [1 2 3 1 2 3]\n",
      "Repeat:  [1 1 2 2 3 3]\n"
     ]
    }
   ],
   "source": [
    "#repeating sequences\n",
    "a = [1,2,3]\n",
    "\n",
    "# Repeat whole of 'a' two times\n",
    "print('Tile:   ', np.tile(a, 2))\n",
    "\n",
    "# Repeat each element of 'a' two times\n",
    "print('Repeat: ', np.repeat(a, 2))"
   ]
  },
  {
   "cell_type": "code",
   "execution_count": 13,
   "metadata": {},
   "outputs": [
    {
     "name": "stdout",
     "output_type": "stream",
     "text": [
      "['o' 'e' 'e' 'a' 'o' 'e' 'o' 'i' 'i' 'e']\n"
     ]
    }
   ],
   "source": [
    "#print randomly from the elements in list\n",
    "print(np.random.choice(['a', 'e', 'i', 'o', 'u'], size=10))"
   ]
  },
  {
   "cell_type": "code",
   "execution_count": 14,
   "metadata": {},
   "outputs": [
    {
     "data": {
      "text/plain": [
       "array([[0.26577217, 0.70531131],\n",
       "       [0.12224395, 0.44724158]])"
      ]
     },
     "execution_count": 14,
     "metadata": {},
     "output_type": "execute_result"
    }
   ],
   "source": [
    "## Random numbers between [0, 1] of shape 2, 2\n",
    "rand = np.random.rand(2,2)\n",
    "rand"
   ]
  },
  {
   "cell_type": "code",
   "execution_count": 17,
   "metadata": {},
   "outputs": [
    {
     "data": {
      "text/plain": [
       "array([[5, 7, 1, 7, 3],\n",
       "       [1, 2, 6, 4, 8],\n",
       "       [9, 8, 3, 4, 6],\n",
       "       [2, 6, 3, 1, 3],\n",
       "       [7, 9, 5, 6, 1]])"
      ]
     },
     "execution_count": 17,
     "metadata": {},
     "output_type": "execute_result"
    }
   ],
   "source": [
    "# Random integers between [0, 10) of shape 2,5\n",
    "rand_int = np.random.randint(0, 10, size=[5,5])\n",
    "rand_int"
   ]
  },
  {
   "cell_type": "code",
   "execution_count": null,
   "metadata": {},
   "outputs": [],
   "source": []
  }
 ],
 "metadata": {
  "kernelspec": {
   "display_name": "base",
   "language": "python",
   "name": "python3"
  },
  "language_info": {
   "codemirror_mode": {
    "name": "ipython",
    "version": 3
   },
   "file_extension": ".py",
   "mimetype": "text/x-python",
   "name": "python",
   "nbconvert_exporter": "python",
   "pygments_lexer": "ipython3",
   "version": "3.9.13"
  }
 },
 "nbformat": 4,
 "nbformat_minor": 2
}
